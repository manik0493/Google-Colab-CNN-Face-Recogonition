{
  "nbformat": 4,
  "nbformat_minor": 0,
  "metadata": {
    "colab": {
      "name": "CNN_Assignment_Solution.ipynb",
      "provenance": [],
      "collapsed_sections": [],
      "machine_shape": "hm",
      "authorship_tag": "ABX9TyPPAFpQXTlpmnKzMPqtHNzO",
      "include_colab_link": true
    },
    "kernelspec": {
      "name": "python3",
      "display_name": "Python 3"
    },
    "accelerator": "TPU"
  },
  "cells": [
    {
      "cell_type": "markdown",
      "metadata": {
        "id": "view-in-github",
        "colab_type": "text"
      },
      "source": [
        "<a href=\"https://colab.research.google.com/github/manik0493/Google-Colab-CNN-Face-Recogonition/blob/master/CNN_Assignment_Solution.ipynb\" target=\"_parent\"><img src=\"https://colab.research.google.com/assets/colab-badge.svg\" alt=\"Open In Colab\"/></a>"
      ]
    },
    {
      "cell_type": "code",
      "metadata": {
        "id": "6UC2Si26mrIN",
        "colab_type": "code",
        "colab": {}
      },
      "source": [
        "from __future__ import absolute_import, division, print_function, unicode_literals\n",
        "import keras\n",
        "import functools\n",
        "import numpy as np\n",
        "import tensorflow as tf\n",
        "from keras.models import Sequential\n",
        "from keras.layers import Dense, Dropout, Activation, Flatten\n",
        "from keras.layers import Conv2D, MaxPooling2D\n",
        "import os\n"
      ],
      "execution_count": 0,
      "outputs": []
    },
    {
      "cell_type": "code",
      "metadata": {
        "id": "XPUJNE99na2-",
        "colab_type": "code",
        "colab": {}
      },
      "source": [
        "import pandas as pd\n",
        "import s3fs\n",
        "\n",
        "df = pd.read_csv('https://lab0493.s3.us-east-2.amazonaws.com/fer2013.csv')\n"
      ],
      "execution_count": 0,
      "outputs": []
    },
    {
      "cell_type": "code",
      "metadata": {
        "id": "khZP6vdYASZC",
        "colab_type": "code",
        "colab": {}
      },
      "source": [
        "def extract_data(df):\n",
        "  Y=[]\n",
        "  X=[]\n",
        "  for index,row in df.iterrows():\n",
        "    Y.append(int(row['emotion']))\n",
        "    X.append([int(p) for p in row['pixels'].split()])\n",
        "  X,Y = np.array(X)/255.0,np.array(Y)\n",
        "  return X,Y\n",
        "X,Y = extract_data(df)\n",
        "\n",
        "  \n"
      ],
      "execution_count": 0,
      "outputs": []
    },
    {
      "cell_type": "code",
      "metadata": {
        "id": "iggCDLjkH7l9",
        "colab_type": "code",
        "colab": {}
      },
      "source": [
        "labels = ['Anger', 'Disgust', 'Fear', 'Happy', 'Sad', 'Surprise', 'Neutral']"
      ],
      "execution_count": 0,
      "outputs": []
    },
    {
      "cell_type": "code",
      "metadata": {
        "id": "E-UavCw4IRL0",
        "colab_type": "code",
        "colab": {}
      },
      "source": [
        "N,D = X.shape\n",
        "X = X.reshape(N,48,48,1)"
      ],
      "execution_count": 0,
      "outputs": []
    },
    {
      "cell_type": "code",
      "metadata": {
        "id": "INiDupDLIn4c",
        "colab_type": "code",
        "colab": {}
      },
      "source": [
        "from sklearn.model_selection import train_test_split\n",
        "x_train, x_test, y_train, y_test = train_test_split(X, Y, test_size=0.1, random_state=0)\n"
      ],
      "execution_count": 0,
      "outputs": []
    },
    {
      "cell_type": "code",
      "metadata": {
        "id": "L73VnVvjnVg2",
        "colab_type": "code",
        "colab": {}
      },
      "source": [
        "batch_size = 128\n",
        "num_classes = len(set(Y))\n",
        "epochs = 100\n",
        "data_augmentation = True\n",
        "num_predictions = 25"
      ],
      "execution_count": 0,
      "outputs": []
    },
    {
      "cell_type": "code",
      "metadata": {
        "id": "BvrDPgQ5KtaC",
        "colab_type": "code",
        "colab": {}
      },
      "source": [
        "y_train = keras.utils.to_categorical(y_train, num_classes)\n",
        "y_test = keras.utils.to_categorical(y_test, num_classes)"
      ],
      "execution_count": 0,
      "outputs": []
    },
    {
      "cell_type": "code",
      "metadata": {
        "id": "2WrNDVzEK0xK",
        "colab_type": "code",
        "colab": {}
      },
      "source": [
        "model = Sequential()\n",
        "\n",
        "# 1 - Convolution\n",
        "model.add(Conv2D(64,(3,3), padding='same', input_shape=(48, 48,1)))\n",
        "\n",
        "model.add(Activation('relu'))\n",
        "model.add(MaxPooling2D(pool_size=(2, 2)))\n",
        "model.add(Dropout(0.25))\n",
        "\n",
        "# 2nd Convolution layer\n",
        "model.add(Conv2D(128,(5,5), padding='same'))\n",
        "\n",
        "model.add(Activation('relu'))\n",
        "model.add(MaxPooling2D(pool_size=(2, 2)))\n",
        "model.add(Dropout(0.25))\n",
        "# 3rd Convolution layer\n",
        "model.add(Conv2D(512,(3,3), padding='same'))\n",
        "\n",
        "model.add(Activation('relu'))\n",
        "model.add(MaxPooling2D(pool_size=(2, 2)))\n",
        "model.add(Dropout(0.25))\n",
        "# 4th Convolution layer\n",
        "model.add(Conv2D(512,(3,3), padding='same'))\n",
        "\n",
        "model.add(Activation('relu'))\n",
        "model.add(MaxPooling2D(pool_size=(2, 2)))\n",
        "model.add(Dropout(0.25))\n",
        "# Flattening\n",
        "model.add(Flatten())\n",
        "  # Fully connected layer 1st layer\n",
        "model.add(Dense(256))\n",
        "\n",
        "model.add(Activation('relu'))\n",
        "model.add(Dropout(0.25))\n",
        "# Fully connected layer 2nd layer\n",
        "model.add(Dense(512))\n",
        "\n",
        "model.add(Activation('relu'))\n",
        "model.add(Dropout(0.25))\n",
        "model.add(Dense(num_classes, activation='sigmoid'))\n",
        "model.compile(optimizer='adam', loss='binary_crossentropy', metrics=['categorical_accuracy'])"
      ],
      "execution_count": 0,
      "outputs": []
    },
    {
      "cell_type": "code",
      "metadata": {
        "id": "lfb7o0sgNL3K",
        "colab_type": "code",
        "outputId": "f24663f9-d485-4584-841c-e788dacdaa67",
        "colab": {
          "base_uri": "https://localhost:8080/",
          "height": 1000
        }
      },
      "source": [
        "history=model.fit(x_train, y_train,\n",
        "           batch_size=batch_size,\n",
        "           epochs=epochs,\n",
        "           validation_data=(x_test, y_test),\n",
        "           shuffle=True)"
      ],
      "execution_count": 0,
      "outputs": [
        {
          "output_type": "stream",
          "text": [
            "Train on 32298 samples, validate on 3589 samples\n",
            "Epoch 1/100\n",
            "32298/32298 [==============================] - 132s 4ms/step - loss: 0.3968 - categorical_accuracy: 0.2383 - val_loss: 0.3965 - val_categorical_accuracy: 0.2636\n",
            "Epoch 2/100\n",
            "32298/32298 [==============================] - 132s 4ms/step - loss: 0.3795 - categorical_accuracy: 0.2842 - val_loss: 0.3477 - val_categorical_accuracy: 0.3870\n",
            "Epoch 3/100\n",
            "32298/32298 [==============================] - 131s 4ms/step - loss: 0.3407 - categorical_accuracy: 0.3948 - val_loss: 0.3138 - val_categorical_accuracy: 0.4525\n",
            "Epoch 4/100\n",
            "32298/32298 [==============================] - 131s 4ms/step - loss: 0.3137 - categorical_accuracy: 0.4553 - val_loss: 0.2968 - val_categorical_accuracy: 0.4923\n",
            "Epoch 5/100\n",
            "32298/32298 [==============================] - 131s 4ms/step - loss: 0.2968 - categorical_accuracy: 0.4895 - val_loss: 0.2763 - val_categorical_accuracy: 0.5358\n",
            "Epoch 6/100\n",
            "32298/32298 [==============================] - 132s 4ms/step - loss: 0.2844 - categorical_accuracy: 0.5175 - val_loss: 0.2659 - val_categorical_accuracy: 0.5506\n",
            "Epoch 7/100\n",
            "32298/32298 [==============================] - 131s 4ms/step - loss: 0.2770 - categorical_accuracy: 0.5333 - val_loss: 0.2625 - val_categorical_accuracy: 0.5522\n",
            "Epoch 8/100\n",
            "32298/32298 [==============================] - 131s 4ms/step - loss: 0.2675 - categorical_accuracy: 0.5538 - val_loss: 0.2594 - val_categorical_accuracy: 0.5606\n",
            "Epoch 9/100\n",
            "32298/32298 [==============================] - 132s 4ms/step - loss: 0.2629 - categorical_accuracy: 0.5623 - val_loss: 0.2545 - val_categorical_accuracy: 0.5720\n",
            "Epoch 10/100\n",
            "32298/32298 [==============================] - 131s 4ms/step - loss: 0.2558 - categorical_accuracy: 0.5730 - val_loss: 0.2488 - val_categorical_accuracy: 0.5865\n",
            "Epoch 11/100\n",
            "32298/32298 [==============================] - 132s 4ms/step - loss: 0.2502 - categorical_accuracy: 0.5881 - val_loss: 0.2503 - val_categorical_accuracy: 0.5848\n",
            "Epoch 12/100\n",
            "32298/32298 [==============================] - 131s 4ms/step - loss: 0.2460 - categorical_accuracy: 0.5955 - val_loss: 0.2460 - val_categorical_accuracy: 0.5918\n",
            "Epoch 13/100\n",
            "32298/32298 [==============================] - 132s 4ms/step - loss: 0.2423 - categorical_accuracy: 0.6072 - val_loss: 0.2437 - val_categorical_accuracy: 0.6016\n",
            "Epoch 14/100\n",
            "32298/32298 [==============================] - 132s 4ms/step - loss: 0.2369 - categorical_accuracy: 0.6179 - val_loss: 0.2427 - val_categorical_accuracy: 0.5954\n",
            "Epoch 15/100\n",
            "32298/32298 [==============================] - 133s 4ms/step - loss: 0.2324 - categorical_accuracy: 0.6244 - val_loss: 0.2445 - val_categorical_accuracy: 0.6002\n",
            "Epoch 16/100\n",
            "32298/32298 [==============================] - 136s 4ms/step - loss: 0.2276 - categorical_accuracy: 0.6332 - val_loss: 0.2401 - val_categorical_accuracy: 0.6013\n",
            "Epoch 17/100\n",
            "32298/32298 [==============================] - 133s 4ms/step - loss: 0.2231 - categorical_accuracy: 0.6426 - val_loss: 0.2406 - val_categorical_accuracy: 0.6018\n",
            "Epoch 18/100\n",
            "32298/32298 [==============================] - 134s 4ms/step - loss: 0.2214 - categorical_accuracy: 0.6460 - val_loss: 0.2373 - val_categorical_accuracy: 0.6105\n",
            "Epoch 19/100\n",
            "32298/32298 [==============================] - 134s 4ms/step - loss: 0.2168 - categorical_accuracy: 0.6571 - val_loss: 0.2359 - val_categorical_accuracy: 0.6183\n",
            "Epoch 20/100\n",
            "32298/32298 [==============================] - 133s 4ms/step - loss: 0.2122 - categorical_accuracy: 0.6642 - val_loss: 0.2368 - val_categorical_accuracy: 0.6205\n",
            "Epoch 21/100\n",
            "32298/32298 [==============================] - 133s 4ms/step - loss: 0.2081 - categorical_accuracy: 0.6737 - val_loss: 0.2426 - val_categorical_accuracy: 0.6077\n",
            "Epoch 22/100\n",
            "32298/32298 [==============================] - 133s 4ms/step - loss: 0.2054 - categorical_accuracy: 0.6780 - val_loss: 0.2366 - val_categorical_accuracy: 0.6080\n",
            "Epoch 23/100\n",
            "32298/32298 [==============================] - 134s 4ms/step - loss: 0.2013 - categorical_accuracy: 0.6848 - val_loss: 0.2426 - val_categorical_accuracy: 0.6130\n",
            "Epoch 24/100\n",
            "32298/32298 [==============================] - 132s 4ms/step - loss: 0.1993 - categorical_accuracy: 0.6896 - val_loss: 0.2366 - val_categorical_accuracy: 0.6258\n",
            "Epoch 25/100\n",
            "32298/32298 [==============================] - 135s 4ms/step - loss: 0.1956 - categorical_accuracy: 0.6956 - val_loss: 0.2413 - val_categorical_accuracy: 0.6199\n",
            "Epoch 26/100\n",
            "32298/32298 [==============================] - 134s 4ms/step - loss: 0.1928 - categorical_accuracy: 0.7026 - val_loss: 0.2402 - val_categorical_accuracy: 0.6197\n",
            "Epoch 27/100\n",
            "32298/32298 [==============================] - 134s 4ms/step - loss: 0.1885 - categorical_accuracy: 0.7095 - val_loss: 0.2401 - val_categorical_accuracy: 0.6250\n",
            "Epoch 28/100\n",
            "32298/32298 [==============================] - 134s 4ms/step - loss: 0.1840 - categorical_accuracy: 0.7167 - val_loss: 0.2397 - val_categorical_accuracy: 0.6216\n",
            "Epoch 29/100\n",
            "32298/32298 [==============================] - 135s 4ms/step - loss: 0.1829 - categorical_accuracy: 0.7211 - val_loss: 0.2380 - val_categorical_accuracy: 0.6250\n",
            "Epoch 30/100\n",
            "32298/32298 [==============================] - 134s 4ms/step - loss: 0.1790 - categorical_accuracy: 0.7257 - val_loss: 0.2424 - val_categorical_accuracy: 0.6266\n",
            "Epoch 31/100\n",
            "32298/32298 [==============================] - 133s 4ms/step - loss: 0.1768 - categorical_accuracy: 0.7319 - val_loss: 0.2478 - val_categorical_accuracy: 0.6291\n",
            "Epoch 32/100\n",
            "32298/32298 [==============================] - 135s 4ms/step - loss: 0.1718 - categorical_accuracy: 0.7402 - val_loss: 0.2421 - val_categorical_accuracy: 0.6378\n",
            "Epoch 33/100\n",
            "32298/32298 [==============================] - 134s 4ms/step - loss: 0.1698 - categorical_accuracy: 0.7426 - val_loss: 0.2469 - val_categorical_accuracy: 0.6344\n",
            "Epoch 34/100\n",
            "32298/32298 [==============================] - 133s 4ms/step - loss: 0.1675 - categorical_accuracy: 0.7442 - val_loss: 0.2465 - val_categorical_accuracy: 0.6241\n",
            "Epoch 35/100\n",
            "32298/32298 [==============================] - 131s 4ms/step - loss: 0.1642 - categorical_accuracy: 0.7550 - val_loss: 0.2443 - val_categorical_accuracy: 0.6397\n",
            "Epoch 36/100\n",
            "32298/32298 [==============================] - 132s 4ms/step - loss: 0.1610 - categorical_accuracy: 0.7608 - val_loss: 0.2518 - val_categorical_accuracy: 0.6325\n",
            "Epoch 37/100\n",
            "32298/32298 [==============================] - 133s 4ms/step - loss: 0.1569 - categorical_accuracy: 0.7656 - val_loss: 0.2489 - val_categorical_accuracy: 0.6314\n",
            "Epoch 38/100\n",
            "32298/32298 [==============================] - 133s 4ms/step - loss: 0.1558 - categorical_accuracy: 0.7697 - val_loss: 0.2544 - val_categorical_accuracy: 0.6264\n",
            "Epoch 39/100\n",
            "32298/32298 [==============================] - 135s 4ms/step - loss: 0.1539 - categorical_accuracy: 0.7721 - val_loss: 0.2483 - val_categorical_accuracy: 0.6314\n",
            "Epoch 40/100\n",
            "32298/32298 [==============================] - 136s 4ms/step - loss: 0.1482 - categorical_accuracy: 0.7820 - val_loss: 0.2562 - val_categorical_accuracy: 0.6311\n",
            "Epoch 41/100\n",
            "32298/32298 [==============================] - 134s 4ms/step - loss: 0.1470 - categorical_accuracy: 0.7841 - val_loss: 0.2559 - val_categorical_accuracy: 0.6291\n",
            "Epoch 42/100\n",
            "32298/32298 [==============================] - 134s 4ms/step - loss: 0.1450 - categorical_accuracy: 0.7882 - val_loss: 0.2531 - val_categorical_accuracy: 0.6227\n",
            "Epoch 43/100\n",
            "32298/32298 [==============================] - 134s 4ms/step - loss: 0.1423 - categorical_accuracy: 0.7928 - val_loss: 0.2542 - val_categorical_accuracy: 0.6378\n",
            "Epoch 44/100\n",
            "32298/32298 [==============================] - 133s 4ms/step - loss: 0.1411 - categorical_accuracy: 0.7951 - val_loss: 0.2555 - val_categorical_accuracy: 0.6278\n",
            "Epoch 45/100\n",
            "32298/32298 [==============================] - 134s 4ms/step - loss: 0.1383 - categorical_accuracy: 0.8015 - val_loss: 0.2562 - val_categorical_accuracy: 0.6308\n",
            "Epoch 46/100\n",
            "32298/32298 [==============================] - 135s 4ms/step - loss: 0.1335 - categorical_accuracy: 0.8079 - val_loss: 0.2569 - val_categorical_accuracy: 0.6456\n",
            "Epoch 47/100\n",
            "32298/32298 [==============================] - 134s 4ms/step - loss: 0.1351 - categorical_accuracy: 0.8049 - val_loss: 0.2561 - val_categorical_accuracy: 0.6389\n",
            "Epoch 48/100\n",
            "32298/32298 [==============================] - 134s 4ms/step - loss: 0.1299 - categorical_accuracy: 0.8139 - val_loss: 0.2562 - val_categorical_accuracy: 0.6350\n",
            "Epoch 49/100\n",
            "32298/32298 [==============================] - 132s 4ms/step - loss: 0.1294 - categorical_accuracy: 0.8133 - val_loss: 0.2612 - val_categorical_accuracy: 0.6291\n",
            "Epoch 50/100\n",
            "32298/32298 [==============================] - 134s 4ms/step - loss: 0.1240 - categorical_accuracy: 0.8241 - val_loss: 0.2638 - val_categorical_accuracy: 0.6378\n",
            "Epoch 51/100\n",
            "32298/32298 [==============================] - 133s 4ms/step - loss: 0.1250 - categorical_accuracy: 0.8222 - val_loss: 0.2632 - val_categorical_accuracy: 0.6311\n",
            "Epoch 52/100\n",
            "32298/32298 [==============================] - 134s 4ms/step - loss: 0.1232 - categorical_accuracy: 0.8228 - val_loss: 0.2776 - val_categorical_accuracy: 0.6319\n",
            "Epoch 53/100\n",
            "32298/32298 [==============================] - 135s 4ms/step - loss: 0.1190 - categorical_accuracy: 0.8337 - val_loss: 0.2719 - val_categorical_accuracy: 0.6325\n",
            "Epoch 54/100\n",
            "32298/32298 [==============================] - 134s 4ms/step - loss: 0.1185 - categorical_accuracy: 0.8353 - val_loss: 0.2720 - val_categorical_accuracy: 0.6303\n",
            "Epoch 55/100\n",
            "32298/32298 [==============================] - 133s 4ms/step - loss: 0.1170 - categorical_accuracy: 0.8347 - val_loss: 0.2647 - val_categorical_accuracy: 0.6417\n",
            "Epoch 56/100\n",
            "32298/32298 [==============================] - 134s 4ms/step - loss: 0.1136 - categorical_accuracy: 0.8409 - val_loss: 0.2665 - val_categorical_accuracy: 0.6389\n",
            "Epoch 57/100\n",
            "32298/32298 [==============================] - 134s 4ms/step - loss: 0.1113 - categorical_accuracy: 0.8451 - val_loss: 0.2788 - val_categorical_accuracy: 0.6291\n",
            "Epoch 58/100\n",
            "32298/32298 [==============================] - 135s 4ms/step - loss: 0.1110 - categorical_accuracy: 0.8454 - val_loss: 0.2716 - val_categorical_accuracy: 0.6303\n",
            "Epoch 59/100\n",
            "32298/32298 [==============================] - 135s 4ms/step - loss: 0.1076 - categorical_accuracy: 0.8526 - val_loss: 0.2784 - val_categorical_accuracy: 0.6250\n",
            "Epoch 60/100\n",
            "32298/32298 [==============================] - 135s 4ms/step - loss: 0.1069 - categorical_accuracy: 0.8516 - val_loss: 0.2751 - val_categorical_accuracy: 0.6330\n",
            "Epoch 61/100\n",
            "32298/32298 [==============================] - 132s 4ms/step - loss: 0.1036 - categorical_accuracy: 0.8570 - val_loss: 0.2808 - val_categorical_accuracy: 0.6291\n",
            "Epoch 62/100\n",
            "32298/32298 [==============================] - 132s 4ms/step - loss: 0.1042 - categorical_accuracy: 0.8583 - val_loss: 0.2729 - val_categorical_accuracy: 0.6369\n",
            "Epoch 63/100\n",
            "32298/32298 [==============================] - 132s 4ms/step - loss: 0.1017 - categorical_accuracy: 0.8627 - val_loss: 0.2783 - val_categorical_accuracy: 0.6342\n",
            "Epoch 64/100\n",
            "32298/32298 [==============================] - 134s 4ms/step - loss: 0.1004 - categorical_accuracy: 0.8644 - val_loss: 0.2790 - val_categorical_accuracy: 0.6456\n",
            "Epoch 65/100\n",
            "32298/32298 [==============================] - 134s 4ms/step - loss: 0.0989 - categorical_accuracy: 0.8646 - val_loss: 0.2803 - val_categorical_accuracy: 0.6272\n",
            "Epoch 66/100\n",
            "32298/32298 [==============================] - 133s 4ms/step - loss: 0.0971 - categorical_accuracy: 0.8700 - val_loss: 0.2856 - val_categorical_accuracy: 0.6369\n",
            "Epoch 67/100\n",
            "32298/32298 [==============================] - 133s 4ms/step - loss: 0.0974 - categorical_accuracy: 0.8697 - val_loss: 0.2789 - val_categorical_accuracy: 0.6342\n",
            "Epoch 68/100\n",
            "32298/32298 [==============================] - 133s 4ms/step - loss: 0.0955 - categorical_accuracy: 0.8715 - val_loss: 0.2915 - val_categorical_accuracy: 0.6372\n",
            "Epoch 69/100\n",
            "32298/32298 [==============================] - 133s 4ms/step - loss: 0.0940 - categorical_accuracy: 0.8726 - val_loss: 0.2961 - val_categorical_accuracy: 0.6325\n",
            "Epoch 70/100\n",
            "32298/32298 [==============================] - 133s 4ms/step - loss: 0.0924 - categorical_accuracy: 0.8778 - val_loss: 0.2895 - val_categorical_accuracy: 0.6342\n",
            "Epoch 71/100\n",
            "32298/32298 [==============================] - 135s 4ms/step - loss: 0.0905 - categorical_accuracy: 0.8787 - val_loss: 0.2993 - val_categorical_accuracy: 0.6317\n",
            "Epoch 72/100\n",
            "32298/32298 [==============================] - 133s 4ms/step - loss: 0.0917 - categorical_accuracy: 0.8775 - val_loss: 0.2943 - val_categorical_accuracy: 0.6358\n",
            "Epoch 73/100\n",
            "32298/32298 [==============================] - 135s 4ms/step - loss: 0.0890 - categorical_accuracy: 0.8808 - val_loss: 0.2941 - val_categorical_accuracy: 0.6336\n",
            "Epoch 74/100\n",
            "32298/32298 [==============================] - 133s 4ms/step - loss: 0.0887 - categorical_accuracy: 0.8835 - val_loss: 0.2885 - val_categorical_accuracy: 0.6330\n",
            "Epoch 75/100\n",
            "32298/32298 [==============================] - 132s 4ms/step - loss: 0.0887 - categorical_accuracy: 0.8843 - val_loss: 0.2870 - val_categorical_accuracy: 0.6308\n",
            "Epoch 76/100\n",
            "32298/32298 [==============================] - 134s 4ms/step - loss: 0.0888 - categorical_accuracy: 0.8823 - val_loss: 0.3018 - val_categorical_accuracy: 0.6383\n",
            "Epoch 77/100\n",
            "32298/32298 [==============================] - 132s 4ms/step - loss: 0.0859 - categorical_accuracy: 0.8866 - val_loss: 0.3090 - val_categorical_accuracy: 0.6339\n",
            "Epoch 78/100\n",
            "32298/32298 [==============================] - 135s 4ms/step - loss: 0.0846 - categorical_accuracy: 0.8905 - val_loss: 0.2981 - val_categorical_accuracy: 0.6314\n",
            "Epoch 79/100\n",
            "32298/32298 [==============================] - 133s 4ms/step - loss: 0.0840 - categorical_accuracy: 0.8906 - val_loss: 0.2996 - val_categorical_accuracy: 0.6367\n",
            "Epoch 80/100\n",
            "32298/32298 [==============================] - 134s 4ms/step - loss: 0.0815 - categorical_accuracy: 0.8943 - val_loss: 0.2981 - val_categorical_accuracy: 0.6361\n",
            "Epoch 81/100\n",
            "32298/32298 [==============================] - 133s 4ms/step - loss: 0.0811 - categorical_accuracy: 0.8924 - val_loss: 0.3168 - val_categorical_accuracy: 0.6325\n",
            "Epoch 82/100\n",
            "32298/32298 [==============================] - 133s 4ms/step - loss: 0.0830 - categorical_accuracy: 0.8907 - val_loss: 0.3054 - val_categorical_accuracy: 0.6322\n",
            "Epoch 83/100\n",
            "32298/32298 [==============================] - 132s 4ms/step - loss: 0.0816 - categorical_accuracy: 0.8969 - val_loss: 0.3071 - val_categorical_accuracy: 0.6333\n",
            "Epoch 84/100\n",
            "32298/32298 [==============================] - 133s 4ms/step - loss: 0.0795 - categorical_accuracy: 0.8973 - val_loss: 0.3076 - val_categorical_accuracy: 0.6372\n",
            "Epoch 85/100\n",
            "32298/32298 [==============================] - 132s 4ms/step - loss: 0.0793 - categorical_accuracy: 0.8999 - val_loss: 0.3118 - val_categorical_accuracy: 0.6408\n",
            "Epoch 86/100\n",
            "32298/32298 [==============================] - 132s 4ms/step - loss: 0.0782 - categorical_accuracy: 0.8979 - val_loss: 0.2977 - val_categorical_accuracy: 0.6294\n",
            "Epoch 87/100\n",
            "32298/32298 [==============================] - 131s 4ms/step - loss: 0.0772 - categorical_accuracy: 0.8998 - val_loss: 0.3142 - val_categorical_accuracy: 0.6314\n",
            "Epoch 88/100\n",
            "32298/32298 [==============================] - 132s 4ms/step - loss: 0.0766 - categorical_accuracy: 0.9028 - val_loss: 0.3166 - val_categorical_accuracy: 0.6358\n",
            "Epoch 89/100\n",
            "32298/32298 [==============================] - 130s 4ms/step - loss: 0.0741 - categorical_accuracy: 0.9052 - val_loss: 0.3207 - val_categorical_accuracy: 0.6369\n",
            "Epoch 90/100\n",
            "32298/32298 [==============================] - 131s 4ms/step - loss: 0.0747 - categorical_accuracy: 0.9046 - val_loss: 0.3214 - val_categorical_accuracy: 0.6230\n",
            "Epoch 91/100\n",
            "32298/32298 [==============================] - 132s 4ms/step - loss: 0.0741 - categorical_accuracy: 0.9072 - val_loss: 0.3165 - val_categorical_accuracy: 0.6406\n",
            "Epoch 92/100\n",
            "32298/32298 [==============================] - 132s 4ms/step - loss: 0.0738 - categorical_accuracy: 0.9075 - val_loss: 0.3127 - val_categorical_accuracy: 0.6344\n",
            "Epoch 93/100\n",
            "32298/32298 [==============================] - 134s 4ms/step - loss: 0.0718 - categorical_accuracy: 0.9079 - val_loss: 0.3186 - val_categorical_accuracy: 0.6342\n",
            "Epoch 94/100\n",
            "32298/32298 [==============================] - 133s 4ms/step - loss: 0.0706 - categorical_accuracy: 0.9109 - val_loss: 0.3162 - val_categorical_accuracy: 0.6383\n",
            "Epoch 95/100\n",
            "32298/32298 [==============================] - 132s 4ms/step - loss: 0.0689 - categorical_accuracy: 0.9133 - val_loss: 0.3145 - val_categorical_accuracy: 0.6397\n",
            "Epoch 96/100\n",
            "32298/32298 [==============================] - 133s 4ms/step - loss: 0.0717 - categorical_accuracy: 0.9104 - val_loss: 0.3258 - val_categorical_accuracy: 0.6297\n",
            "Epoch 97/100\n",
            "32298/32298 [==============================] - 134s 4ms/step - loss: 0.0730 - categorical_accuracy: 0.9069 - val_loss: 0.3181 - val_categorical_accuracy: 0.6252\n",
            "Epoch 98/100\n",
            "32298/32298 [==============================] - 134s 4ms/step - loss: 0.0693 - categorical_accuracy: 0.9153 - val_loss: 0.3235 - val_categorical_accuracy: 0.6291\n",
            "Epoch 99/100\n",
            "32298/32298 [==============================] - 134s 4ms/step - loss: 0.0686 - categorical_accuracy: 0.9140 - val_loss: 0.3244 - val_categorical_accuracy: 0.6353\n",
            "Epoch 100/100\n",
            "32298/32298 [==============================] - 135s 4ms/step - loss: 0.0704 - categorical_accuracy: 0.9109 - val_loss: 0.3193 - val_categorical_accuracy: 0.6325\n"
          ],
          "name": "stdout"
        }
      ]
    },
    {
      "cell_type": "code",
      "metadata": {
        "id": "fu0j9eNdkkx9",
        "colab_type": "code",
        "outputId": "8f0fe8fe-3fcd-426a-f45d-8c2b9c389060",
        "colab": {
          "base_uri": "https://localhost:8080/",
          "height": 34
        }
      },
      "source": [
        "scores = model.evaluate(x_test, y_test, verbose=1)\n"
      ],
      "execution_count": 0,
      "outputs": [
        {
          "output_type": "stream",
          "text": [
            "3589/3589 [==============================] - 3s 827us/step\n"
          ],
          "name": "stdout"
        }
      ]
    },
    {
      "cell_type": "code",
      "metadata": {
        "id": "XmLxg_r4kw6-",
        "colab_type": "code",
        "outputId": "e7de0ffc-219f-469d-ea8c-78b7736aa666",
        "colab": {
          "base_uri": "https://localhost:8080/",
          "height": 51
        }
      },
      "source": [
        "print('Test loss:', scores[0])\n",
        "print('Test accuracy:', scores[1])"
      ],
      "execution_count": 0,
      "outputs": [
        {
          "output_type": "stream",
          "text": [
            "Test loss: 0.3193445472572467\n",
            "Test accuracy: 0.632488158269658\n"
          ],
          "name": "stdout"
        }
      ]
    },
    {
      "cell_type": "code",
      "metadata": {
        "id": "BpW7VMGgvQla",
        "colab_type": "code",
        "outputId": "12601655-7c89-4705-ebe6-6832d81c0989",
        "colab": {
          "base_uri": "https://localhost:8080/",
          "height": 295
        }
      },
      "source": [
        "import matplotlib.pyplot as plt\n",
        "plt.plot(history.history['categorical_accuracy'])\n",
        "plt.plot(history.history['val_categorical_accuracy'])\n",
        "plt.title('Model accuracy')\n",
        "plt.ylabel('Accuracy')\n",
        "plt.xlabel('Epoch')\n",
        "plt.legend(['Train', 'Test'], loc='upper left')\n",
        "plt.show()"
      ],
      "execution_count": 0,
      "outputs": [
        {
          "output_type": "display_data",
          "data": {
            "image/png": "[encoded data removed]",
            "text/plain": [
              "<Figure size 432x288 with 1 Axes>"
            ]
          },
          "metadata": {
            "tags": []
          }
        }
      ]
    },
    {
      "cell_type": "code",
      "metadata": {
        "id": "iZX2OG11vmw5",
        "colab_type": "code",
        "outputId": "5c2d11ac-bb0f-45d6-ade8-f5c212b061c6",
        "colab": {
          "base_uri": "https://localhost:8080/",
          "height": 295
        }
      },
      "source": [
        "plt.plot(history.history['loss'])\n",
        "plt.plot(history.history['val_loss'])\n",
        "plt.title('Model loss')\n",
        "plt.ylabel('Loss')\n",
        "plt.xlabel('Epoch')\n",
        "plt.legend(['Train', 'Test'], loc='upper left')\n",
        "plt.show()"
      ],
      "execution_count": 0,
      "outputs": [
        {
          "output_type": "display_data",
          "data": {
            "image/png": "[encoded data removed]",
            "text/plain": [
              "<Figure size 432x288 with 1 Axes>"
            ]
          },
          "metadata": {
            "tags": []
          }
        }
      ]
    },
    {
      "cell_type": "code",
      "metadata": {
        "id": "YcZue0nDwCUc",
        "colab_type": "code",
        "outputId": "221953d7-4c68-4327-81ca-1c82efd2d377",
        "colab": {
          "base_uri": "https://localhost:8080/",
          "height": 1000
        }
      },
      "source": [
        "predicted_y=model.predict(x_test[:25])\n",
        "predicted_y=np.argmax(predicted_y,axis=-1)\n",
        "y_test_true = np.argmax(y_test,axis=-1)\n",
        "for i in range(25):\n",
        "  print(\"TestCase Number #\"+str(i+1))\n",
        "  print(\"------------------------------\")\n",
        "  print(\"True Label: \"+labels[y_test_true[i]])\n",
        "  print(\"Predicted Label: \"+labels[predicted_y[i]])\n",
        "  print(\" \")"
      ],
      "execution_count": 0,
      "outputs": [
        {
          "output_type": "stream",
          "text": [
            "TestCase Number #1\n",
            "------------------------------\n",
            "True Label: Happy\n",
            "Predicted Label: Happy\n",
            " \n",
            "TestCase Number #2\n",
            "------------------------------\n",
            "True Label: Sad\n",
            "Predicted Label: Sad\n",
            " \n",
            "TestCase Number #3\n",
            "------------------------------\n",
            "True Label: Fear\n",
            "Predicted Label: Surprise\n",
            " \n",
            "TestCase Number #4\n",
            "------------------------------\n",
            "True Label: Sad\n",
            "Predicted Label: Sad\n",
            " \n",
            "TestCase Number #5\n",
            "------------------------------\n",
            "True Label: Anger\n",
            "Predicted Label: Anger\n",
            " \n",
            "TestCase Number #6\n",
            "------------------------------\n",
            "True Label: Neutral\n",
            "Predicted Label: Neutral\n",
            " \n",
            "TestCase Number #7\n",
            "------------------------------\n",
            "True Label: Happy\n",
            "Predicted Label: Happy\n",
            " \n",
            "TestCase Number #8\n",
            "------------------------------\n",
            "True Label: Neutral\n",
            "Predicted Label: Happy\n",
            " \n",
            "TestCase Number #9\n",
            "------------------------------\n",
            "True Label: Fear\n",
            "Predicted Label: Surprise\n",
            " \n",
            "TestCase Number #10\n",
            "------------------------------\n",
            "True Label: Neutral\n",
            "Predicted Label: Neutral\n",
            " \n",
            "TestCase Number #11\n",
            "------------------------------\n",
            "True Label: Neutral\n",
            "Predicted Label: Neutral\n",
            " \n",
            "TestCase Number #12\n",
            "------------------------------\n",
            "True Label: Sad\n",
            "Predicted Label: Anger\n",
            " \n",
            "TestCase Number #13\n",
            "------------------------------\n",
            "True Label: Fear\n",
            "Predicted Label: Fear\n",
            " \n",
            "TestCase Number #14\n",
            "------------------------------\n",
            "True Label: Fear\n",
            "Predicted Label: Fear\n",
            " \n",
            "TestCase Number #15\n",
            "------------------------------\n",
            "True Label: Anger\n",
            "Predicted Label: Fear\n",
            " \n",
            "TestCase Number #16\n",
            "------------------------------\n",
            "True Label: Surprise\n",
            "Predicted Label: Surprise\n",
            " \n",
            "TestCase Number #17\n",
            "------------------------------\n",
            "True Label: Happy\n",
            "Predicted Label: Happy\n",
            " \n",
            "TestCase Number #18\n",
            "------------------------------\n",
            "True Label: Anger\n",
            "Predicted Label: Anger\n",
            " \n",
            "TestCase Number #19\n",
            "------------------------------\n",
            "True Label: Neutral\n",
            "Predicted Label: Neutral\n",
            " \n",
            "TestCase Number #20\n",
            "------------------------------\n",
            "True Label: Anger\n",
            "Predicted Label: Anger\n",
            " \n",
            "TestCase Number #21\n",
            "------------------------------\n",
            "True Label: Anger\n",
            "Predicted Label: Sad\n",
            " \n",
            "TestCase Number #22\n",
            "------------------------------\n",
            "True Label: Neutral\n",
            "Predicted Label: Sad\n",
            " \n",
            "TestCase Number #23\n",
            "------------------------------\n",
            "True Label: Surprise\n",
            "Predicted Label: Surprise\n",
            " \n",
            "TestCase Number #24\n",
            "------------------------------\n",
            "True Label: Anger\n",
            "Predicted Label: Anger\n",
            " \n",
            "TestCase Number #25\n",
            "------------------------------\n",
            "True Label: Surprise\n",
            "Predicted Label: Surprise\n",
            " \n"
          ],
          "name": "stdout"
        }
      ]
    }
  ]
}